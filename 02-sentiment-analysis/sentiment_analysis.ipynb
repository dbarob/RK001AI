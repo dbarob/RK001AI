{
 "cells": [
  {
   "cell_type": "markdown",
   "metadata": {},
   "source": [
    "# Sentiment Analysis with Hugging Face"
   ]
  },
  {
   "cell_type": "code",
   "metadata": {},
   "source": [
    "from transformers import pipeline\n",
    "sentiment = pipeline('sentiment-analysis')\n",
    "\n",
    "texts = [\n",
    "    \"The service was great!\",\n",
    "    \"I am disappointed with the outcome.\",\n",
    "    \"Everything was okay.\"\n",
    "]\n",
    "\n",
    "results = sentiment(texts)\n",
    "\n",
    "for text, result in zip(texts, results):\n",
    "    print(f'{text} => {result["label"]} ({result["score"]:.2f})')"
   ]
  }
 ],
 "metadata": {},
 "nbformat": 4,
 "nbformat_minor": 2
}