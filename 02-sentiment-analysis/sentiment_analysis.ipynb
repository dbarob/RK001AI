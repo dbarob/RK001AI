{
 "cells": [
  {
   "cell_type": "markdown",
   "metadata": {},
   "source": [
    "# Sentiment Analysis with Hugging Face\n",
    "This notebook uses a pre-trained DistilBERT model to classify the sentiment of short text."
   ]
  },
  {
   "cell_type": "code",
   "execution_count": 2,
   "metadata": {},
   "outputs": [
    {
     "name": "stderr",
     "output_type": "stream",
     "text": [
      "No model was supplied, defaulted to distilbert/distilbert-base-uncased-finetuned-sst-2-english and revision 714eb0f (https://huggingface.co/distilbert/distilbert-base-uncased-finetuned-sst-2-english).\n",
      "Using a pipeline without specifying a model name and revision in production is not recommended.\n",
      "Device set to use cpu\n"
     ]
    },
    {
     "name": "stdout",
     "output_type": "stream",
     "text": [
      "The service was great! => POSITIVE (1.00)\n",
      "I am disappointed with the outcome. => NEGATIVE (1.00)\n",
      "Everything was okay. => POSITIVE (1.00)\n"
     ]
    }
   ],
   "source": [
    "# Load a pre-trained sentiment pipeline from Hugging Face\n",
    "from transformers import pipeline\n",
    "sentiment = pipeline('sentiment-analysis')\n",
    "\n",
    "# Define some example texts\n",
    "texts = [\n",
    "    \"The service was great!\",\n",
    "    \"I am disappointed with the outcome.\",\n",
    "    \"Everything was okay.\"\n",
    "]\n",
    "\n",
    "# Run sentiment analysis and print results\n",
    "results = sentiment(texts)\n",
    "for text, result in zip(texts, results):\n",
    "    print(f\"{text} => {result['label']} ({result['score']:.2f})\")"
   ]
  }
 ],
 "metadata": {
  "kernelspec": {
   "display_name": "venv",
   "language": "python",
   "name": "python3"
  },
  "language_info": {
   "codemirror_mode": {
    "name": "ipython",
    "version": 3
   },
   "file_extension": ".py",
   "mimetype": "text/x-python",
   "name": "python",
   "nbconvert_exporter": "python",
   "pygments_lexer": "ipython3",
   "version": "3.13.3"
  }
 },
 "nbformat": 4,
 "nbformat_minor": 2
}
