{
 "cells": [
  {
   "cell_type": "markdown",
   "id": "1bd0a444",
   "metadata": {},
   "source": [
    "# 😊 Sentiment Analysis from CSV using Hugging Face\n",
    "This notebook uses a pretrained transformer model to classify feedback text from a CSV file."
   ]
  },
  {
   "cell_type": "code",
   "execution_count": null,
   "id": "9dc560df",
   "metadata": {},
   "outputs": [],
   "source": [
    "import pandas as pd\n",
    "from transformers import pipeline"
   ]
  },
  {
   "cell_type": "code",
   "execution_count": null,
   "id": "c5a59c75",
   "metadata": {},
   "outputs": [],
   "source": [
    "# Load sentiment analysis pipeline\n",
    "sentiment = pipeline(\"sentiment-analysis\")"
   ]
  },
  {
   "cell_type": "code",
   "execution_count": null,
   "id": "bbc408cb",
   "metadata": {},
   "outputs": [],
   "source": [
    "# Load the CSV file\n",
    "csv_path = 'feedback.csv'\n",
    "df = pd.read_csv(csv_path)\n",
    "\n",
    "# Display a preview\n",
    "df.head()"
   ]
  },
  {
   "cell_type": "code",
   "execution_count": null,
   "id": "b7da7f79",
   "metadata": {},
   "outputs": [],
   "source": [
    "# Run sentiment analysis on the 'Feedback' column\n",
    "results = sentiment(df['Feedback'].tolist())\n",
    "\n",
    "df['Sentiment'] = [r['label'] for r in results]\n",
    "df['Confidence'] = [r['score'] for r in results]"
   ]
  },
  {
   "cell_type": "code",
   "execution_count": null,
   "id": "dbbf7903",
   "metadata": {},
   "outputs": [],
   "source": [
    "# Save the output\n",
    "df.to_csv('feedback_with_sentiment.csv', index=False)\n",
    "df.head()"
   ]
  }
 ],
 "metadata": {},
 "nbformat": 4,
 "nbformat_minor": 5
}
