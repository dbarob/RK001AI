{
 "cells": [
  {
   "cell_type": "markdown",
   "metadata": {},
   "source": [
    "# Anomaly Detection with Isolation Forest"
   ]
  },
  {
   "cell_type": "code",
   "metadata": {},
   "source": [
    "from pyod.models.iforest import IForest\n",
    "import numpy as np\n",
    "import matplotlib.pyplot as plt\n",
    "\n",
    "# Create synthetic data\n",
    "X = np.random.normal(0, 1, size=(100, 2))\n",
    "X[95:] += 5  # Inject anomalies\n",
    "\n",
    "model = IForest()\n",
    "model.fit(X)\n",
    "outliers = model.predict(X)  # 1 = outlier, 0 = normal\n",
    "\n",
    "# Visualize\n",
    "plt.scatter(X[:, 0], X[:, 1], c=outliers, cmap='coolwarm')\n",
    "plt.title('Anomaly Detection with Isolation Forest')\n",
    "plt.show()"
   ]
  }
 ],
 "metadata": {},
 "nbformat": 4,
 "nbformat_minor": 2
}